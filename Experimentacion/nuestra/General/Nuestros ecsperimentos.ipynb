{
 "cells": [
  {
   "cell_type": "code",
   "execution_count": 11,
   "metadata": {},
   "outputs": [],
   "source": [
    "import numpy as np\n",
    "import pandas as pd\n",
    "import seaborn as sns\n",
    "import matplotlib.pyplot as plt"
   ]
  },
  {
   "cell_type": "code",
   "execution_count": 12,
   "metadata": {},
   "outputs": [
    {
     "name": "stdout",
     "output_type": "stream",
     "text": [
      "     N         Tiempo\n",
      "0    1       0.002008\n",
      "1    2       0.000880\n",
      "2    3       0.002970\n",
      "3    4       0.001614\n",
      "4    5       0.004125\n",
      "5    6       0.010740\n",
      "6    7       0.029331\n",
      "7    8       0.072610\n",
      "8    9       0.166365\n",
      "9   10       0.371864\n",
      "10  11       0.488579\n",
      "11  12       0.904831\n",
      "12  13       1.894650\n",
      "13  14       4.078330\n",
      "14  15       8.566980\n",
      "15  16      18.200900\n",
      "16  17      37.139100\n",
      "17  18      78.159400\n",
      "18  19     163.563000\n",
      "19  20     342.840000\n",
      "20  21     719.650000\n",
      "21  22    1509.670000\n",
      "22  23    3152.920000\n",
      "23  24    6530.620000\n",
      "24  25   13582.900000\n",
      "25  26   28384.700000\n",
      "26  27   60267.000000\n",
      "27  28  123950.000000\n",
      "28  29  254938.000000\n",
      "29  30  528118.000000\n"
     ]
    }
   ],
   "source": [
    "df = pd.read_csv(\"fuerzaBruta1.csv\")\n",
    "print(df)\n"
   ]
  },
  {
   "cell_type": "code",
   "execution_count": 13,
   "metadata": {},
   "outputs": [
    {
     "ename": "AttributeError",
     "evalue": "'module' object has no attribute 'lineplot'",
     "output_type": "error",
     "traceback": [
      "\u001b[0;31m---------------------------------------------------------------------------\u001b[0m",
      "\u001b[0;31mAttributeError\u001b[0m                            Traceback (most recent call last)",
      "\u001b[0;32m<ipython-input-13-6f39224dd0f0>\u001b[0m in \u001b[0;36m<module>\u001b[0;34m()\u001b[0m\n\u001b[1;32m      2\u001b[0m \u001b[0;31m# Ploteamos curva de tiempo de FB vs la curva de complejidad.\u001b[0m\u001b[0;34m\u001b[0m\u001b[0;34m\u001b[0m\u001b[0m\n\u001b[1;32m      3\u001b[0m \u001b[0mdf_exp\u001b[0m \u001b[0;34m=\u001b[0m \u001b[0mpd\u001b[0m\u001b[0;34m.\u001b[0m\u001b[0mDataFrame\u001b[0m\u001b[0;34m(\u001b[0m\u001b[0;34m{\u001b[0m\u001b[0;34m\"n\"\u001b[0m\u001b[0;34m:\u001b[0m \u001b[0;34m[\u001b[0m\u001b[0mi\u001b[0m \u001b[0;32mfor\u001b[0m \u001b[0mi\u001b[0m \u001b[0;32min\u001b[0m \u001b[0mrange\u001b[0m\u001b[0;34m(\u001b[0m\u001b[0;36m1\u001b[0m\u001b[0;34m,\u001b[0m \u001b[0;36m30\u001b[0m\u001b[0;34m)\u001b[0m\u001b[0;34m]\u001b[0m\u001b[0;34m,\u001b[0m \u001b[0;34m\"Esperado\"\u001b[0m\u001b[0;34m:\u001b[0m \u001b[0;34m[\u001b[0m \u001b[0mi\u001b[0m\u001b[0;34m*\u001b[0m\u001b[0;34m(\u001b[0m\u001b[0;36m2\u001b[0m\u001b[0;34m**\u001b[0m\u001b[0mi\u001b[0m\u001b[0;34m)\u001b[0m \u001b[0;32mfor\u001b[0m \u001b[0mi\u001b[0m \u001b[0;32min\u001b[0m \u001b[0mrange\u001b[0m\u001b[0;34m(\u001b[0m\u001b[0;36m1\u001b[0m\u001b[0;34m,\u001b[0m \u001b[0;36m30\u001b[0m\u001b[0;34m)\u001b[0m\u001b[0;34m]\u001b[0m\u001b[0;34m}\u001b[0m\u001b[0;34m)\u001b[0m\u001b[0;34m;\u001b[0m\u001b[0;34m\u001b[0m\u001b[0m\n\u001b[0;32m----> 4\u001b[0;31m \u001b[0max1\u001b[0m \u001b[0;34m=\u001b[0m \u001b[0msns\u001b[0m\u001b[0;34m.\u001b[0m\u001b[0mlineplot\u001b[0m\u001b[0;34m(\u001b[0m\u001b[0mx\u001b[0m\u001b[0;34m=\u001b[0m\u001b[0;34m\"N\"\u001b[0m\u001b[0;34m,\u001b[0m \u001b[0my\u001b[0m\u001b[0;34m=\u001b[0m\u001b[0;34m\"Tiempo\"\u001b[0m\u001b[0;34m,\u001b[0m \u001b[0mdata\u001b[0m\u001b[0;34m=\u001b[0m\u001b[0mdf\u001b[0m\u001b[0;34m)\u001b[0m\u001b[0;34m;\u001b[0m\u001b[0;34m\u001b[0m\u001b[0m\n\u001b[0m\u001b[1;32m      5\u001b[0m \u001b[0max1\u001b[0m \u001b[0;34m=\u001b[0m \u001b[0msns\u001b[0m\u001b[0;34m.\u001b[0m\u001b[0mlineplot\u001b[0m\u001b[0;34m(\u001b[0m\u001b[0mx\u001b[0m\u001b[0;34m=\u001b[0m\u001b[0;34m\"n\"\u001b[0m\u001b[0;34m,\u001b[0m \u001b[0my\u001b[0m\u001b[0;34m=\u001b[0m\u001b[0;34m\"Esperado\"\u001b[0m\u001b[0;34m,\u001b[0m \u001b[0mdata\u001b[0m\u001b[0;34m=\u001b[0m\u001b[0mdf_exp\u001b[0m\u001b[0;34m)\u001b[0m\u001b[0;34m;\u001b[0m\u001b[0;34m\u001b[0m\u001b[0m\n\u001b[1;32m      6\u001b[0m \u001b[0max1\u001b[0m\u001b[0;34m.\u001b[0m\u001b[0mlegend\u001b[0m\u001b[0;34m(\u001b[0m\u001b[0;34m[\u001b[0m\u001b[0;34m\"FB\"\u001b[0m\u001b[0;34m,\u001b[0m \u001b[0;34m\"n * 2^n\"\u001b[0m\u001b[0;34m]\u001b[0m\u001b[0;34m)\u001b[0m\u001b[0;34m;\u001b[0m\u001b[0;34m\u001b[0m\u001b[0m\n",
      "\u001b[0;31mAttributeError\u001b[0m: 'module' object has no attribute 'lineplot'"
     ]
    },
    {
     "data": {
      "text/plain": [
       "<Figure size 432x288 with 0 Axes>"
      ]
     },
     "metadata": {},
     "output_type": "display_data"
    }
   ],
   "source": [
    "fig = plt.figure();\n",
    "# Ploteamos curva de tiempo de FB vs la curva de complejidad.\n",
    "df_exp = pd.DataFrame({\"n\": [i for i in range(1, 30)], \"Esperado\": [ i*(2**i) for i in range(1, 30)]});\n",
    "ax1 = sns.lineplot(x=\"N\", y=\"Tiempo\", data=df);\n",
    "ax1 = sns.lineplot(x=\"n\", y=\"Esperado\", data=df_exp);\n",
    "ax1.legend([\"FB\", \"n * 2^n\"]);\n",
    "plt.ylabel(\"tiempo (ms)\");"
   ]
  },
  {
   "cell_type": "code",
   "execution_count": null,
   "metadata": {},
   "outputs": [],
   "source": [
    "#Correlación\n",
    "df[\"cota\"] = df[\"n\"] * (2**df[\"n\"]);\n",
    "ax1 = sns.lmplot(x='Tiempo', y='cota', data=df);\n",
    "plt.xlabel(\"T(n)\");\n",
    "plt.ylabel(\"cota(n)\");"
   ]
  },
  {
   "cell_type": "code",
   "execution_count": null,
   "metadata": {},
   "outputs": [],
   "source": [
    "#Coeficiente del pirson\n",
    "r = np.corrcoef(df[\"Tiempo\"], df[\"cota\"])[0, 1];\n",
    "print(\"El coeficiente de correlación de Pearson es: r=\"+str(r))\n",
    "El coeficiente de correlación de Pearson es: r=0.9999978520948191"
   ]
  },
  {
   "cell_type": "code",
   "execution_count": null,
   "metadata": {},
   "outputs": [],
   "source": [
    "#Aca hicimos peor caso, que es con todos los tamaños = 0. Hay que justificar que ese es el peor caso. Después hacer \n",
    "#grafiquito fijando distintos Ws, para ver que mejora a medida que crece W (<--HIP) (siempre los mismos tamaños,\n",
    "#e.g. rand() % 100, y w = 25, 50, 100, 150)\n",
    "# No haría falta hacer grafico de correlacion porque no pretendemos mostrar ninguna correlacion :) "
   ]
  },
  {
   "cell_type": "code",
   "execution_count": null,
   "metadata": {},
   "outputs": [],
   "source": [
    "#Lo mismo con mitm "
   ]
  }
 ],
 "metadata": {
  "kernelspec": {
   "display_name": "Python 3",
   "language": "python",
   "name": "python3"
  },
  "language_info": {
   "codemirror_mode": {
    "name": "ipython",
    "version": 2
   },
   "file_extension": ".py",
   "mimetype": "text/x-python",
   "name": "python",
   "nbconvert_exporter": "python",
   "pygments_lexer": "ipython2",
   "version": "2.7.15rc1"
  }
 },
 "nbformat": 4,
 "nbformat_minor": 2
}
